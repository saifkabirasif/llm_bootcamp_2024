{
 "cells": [
  {
   "cell_type": "code",
   "execution_count": 3,
   "id": "6a6c0219-6504-4d41-9b98-2282ab11f3f9",
   "metadata": {},
   "outputs": [],
   "source": [
    "import openai\n",
    "import os"
   ]
  },
  {
   "cell_type": "code",
   "execution_count": 2,
   "id": "eb9112d7-3de5-475e-a933-98744d0fdc35",
   "metadata": {},
   "outputs": [],
   "source": [
    "from openai import OpenAI"
   ]
  },
  {
   "cell_type": "code",
   "execution_count": 7,
   "id": "38316612-29f5-4a9e-9c8b-1d7292cb8f2d",
   "metadata": {},
   "outputs": [],
   "source": [
    "client=OpenAI()"
   ]
  },
  {
   "cell_type": "code",
   "execution_count": 8,
   "id": "b7cdbc1e-bb96-4b6b-9f0a-ccde90ae6406",
   "metadata": {},
   "outputs": [
    {
     "data": {
      "text/plain": [
       "<openai.OpenAI at 0x730e2148c0d0>"
      ]
     },
     "execution_count": 8,
     "metadata": {},
     "output_type": "execute_result"
    }
   ],
   "source": [
    "client"
   ]
  },
  {
   "cell_type": "code",
   "execution_count": 10,
   "id": "a5c91251-15c3-4b13-8520-4d5b4912b36e",
   "metadata": {},
   "outputs": [],
   "source": [
    "response=client.chat.completions.create(\n",
    "    model='gpt-4o',\n",
    "    messages=[{\"role\": \"user\",\n",
    "               \"content\": \"Is it too late to join the course?\"\n",
    "        }]\n",
    ")"
   ]
  },
  {
   "cell_type": "code",
   "execution_count": 11,
   "id": "07052146-210a-426f-9f35-068725b29c77",
   "metadata": {},
   "outputs": [
    {
     "data": {
      "text/plain": [
       "ChatCompletion(id='chatcmpl-9flAK4Wg3xUD5FRWarM1R6riOjRgg', choices=[Choice(finish_reason='stop', index=0, logprobs=None, message=ChatCompletionMessage(content=\"Determining whether it's too late to join a course often depends on several factors, such as the type of course, the institution offering it, and the specific policies they have in place. Here are some general steps you can take to find out:\\n\\n1. **Check Enrollment Deadlines:** Look at the course details or the institution's website to see if there are any specified enrollment deadlines.\\n\\n2. **Contact the Institution:** Reach out directly to the admissions office, the registrar, or the course instructor. They can provide the most accurate and up-to-date information.\\n\\n3. **Consider the Course's Progress:** If the course has already started, ask about the material covered so far and evaluate your ability to catch up. Some courses might allow late enrollment but may have conditions or additional support to help you catch up.\\n\\n4. **Registration Policies:** Some institutions have policies on adding classes late, which might include late fees or the need to get special permission.\\n\\n5. **Alternative Options:** If it's too late for a particular session, inquire about when the course will next be offered or look for similar courses elsewhere.\\n\\n6. **Online Courses:** Many online learning platforms offer greater flexibility regarding start dates, so this could be another avenue if traditional timing doesn’t work out.\\n\\nWould you like assistance with a specific course or type of course?\", role='assistant', function_call=None, tool_calls=None))], created=1719739780, model='gpt-4o-2024-05-13', object='chat.completion', service_tier=None, system_fingerprint='fp_d576307f90', usage=CompletionUsage(completion_tokens=265, prompt_tokens=16, total_tokens=281))"
      ]
     },
     "execution_count": 11,
     "metadata": {},
     "output_type": "execute_result"
    }
   ],
   "source": [
    "response"
   ]
  },
  {
   "cell_type": "code",
   "execution_count": 14,
   "id": "acdd70c3-5618-4e9a-bfca-09c3f0c70a3d",
   "metadata": {},
   "outputs": [
    {
     "data": {
      "text/plain": [
       "\"Determining whether it's too late to join a course often depends on several factors, such as the type of course, the institution offering it, and the specific policies they have in place. Here are some general steps you can take to find out:\\n\\n1. **Check Enrollment Deadlines:** Look at the course details or the institution's website to see if there are any specified enrollment deadlines.\\n\\n2. **Contact the Institution:** Reach out directly to the admissions office, the registrar, or the course instructor. They can provide the most accurate and up-to-date information.\\n\\n3. **Consider the Course's Progress:** If the course has already started, ask about the material covered so far and evaluate your ability to catch up. Some courses might allow late enrollment but may have conditions or additional support to help you catch up.\\n\\n4. **Registration Policies:** Some institutions have policies on adding classes late, which might include late fees or the need to get special permission.\\n\\n5. **Alternative Options:** If it's too late for a particular session, inquire about when the course will next be offered or look for similar courses elsewhere.\\n\\n6. **Online Courses:** Many online learning platforms offer greater flexibility regarding start dates, so this could be another avenue if traditional timing doesn’t work out.\\n\\nWould you like assistance with a specific course or type of course?\""
      ]
     },
     "execution_count": 14,
     "metadata": {},
     "output_type": "execute_result"
    }
   ],
   "source": [
    "response.choices[0].message.content"
   ]
  },
  {
   "cell_type": "code",
   "execution_count": null,
   "id": "0150976b-cd4e-4641-9eb4-2ac49d6dcc41",
   "metadata": {},
   "outputs": [],
   "source": []
  }
 ],
 "metadata": {
  "kernelspec": {
   "display_name": "Python 3 (ipykernel)",
   "language": "python",
   "name": "python3"
  },
  "language_info": {
   "codemirror_mode": {
    "name": "ipython",
    "version": 3
   },
   "file_extension": ".py",
   "mimetype": "text/x-python",
   "name": "python",
   "nbconvert_exporter": "python",
   "pygments_lexer": "ipython3",
   "version": "3.10.13"
  }
 },
 "nbformat": 4,
 "nbformat_minor": 5
}
