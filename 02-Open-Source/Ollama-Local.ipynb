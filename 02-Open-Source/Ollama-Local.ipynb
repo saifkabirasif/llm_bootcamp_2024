{
 "cells": [
  {
   "cell_type": "code",
   "execution_count": 1,
   "metadata": {},
   "outputs": [
    {
     "name": "stdout",
     "output_type": "stream",
     "text": [
      ">>> Downloading ollama...\n",
      "######################################################################## 100.0%##O#- #                                                                       \n",
      ">>> Installing ollama to /usr/local/bin...\n",
      ">>> Creating ollama user...\n",
      ">>> Adding ollama user to video group...\n",
      ">>> Adding current user to ollama group...\n",
      ">>> Creating ollama systemd service...\n",
      "WARNING: Unable to detect NVIDIA/AMD GPU. Install lspci or lshw to automatically detect and install GPU dependencies.\n",
      ">>> The Ollama API is now available at 127.0.0.1:11434.\n",
      ">>> Install complete. Run \"ollama\" from the command line.\n"
     ]
    }
   ],
   "source": [
    "!curl -fsSL https://ollama.com/install.sh | sh"
   ]
  },
  {
   "cell_type": "code",
   "execution_count": 1,
   "metadata": {},
   "outputs": [],
   "source": [
    "import os"
   ]
  },
  {
   "cell_type": "code",
   "execution_count": 2,
   "metadata": {},
   "outputs": [
    {
     "data": {
      "text/plain": [
       "<minsearch.Index at 0x77d0e55dbf40>"
      ]
     },
     "execution_count": 2,
     "metadata": {},
     "output_type": "execute_result"
    }
   ],
   "source": [
    "import requests \n",
    "import minsearch\n",
    "\n",
    "docs_url = 'https://github.com/DataTalksClub/llm-zoomcamp/blob/main/01-intro/documents.json?raw=1'\n",
    "docs_response = requests.get(docs_url)\n",
    "documents_raw = docs_response.json()\n",
    "\n",
    "documents = []\n",
    "\n",
    "for course in documents_raw:\n",
    "    course_name = course['course']\n",
    "\n",
    "    for doc in course['documents']:\n",
    "        doc['course'] = course_name\n",
    "        documents.append(doc)\n",
    "\n",
    "index = minsearch.Index(\n",
    "    text_fields=[\"question\", \"text\", \"section\"],\n",
    "    keyword_fields=[\"course\"]\n",
    ")\n",
    "\n",
    "index.fit(documents)"
   ]
  },
  {
   "cell_type": "code",
   "execution_count": 3,
   "metadata": {},
   "outputs": [],
   "source": [
    "def search(query):\n",
    "    boost = {'question': 3.0, 'section': 0.5}\n",
    "\n",
    "    results = index.search(\n",
    "        query=query,\n",
    "        filter_dict={'course': 'data-engineering-zoomcamp'},\n",
    "        boost_dict=boost,\n",
    "        num_results=5\n",
    "    )\n",
    "\n",
    "    return results"
   ]
  },
  {
   "cell_type": "code",
   "execution_count": 6,
   "metadata": {},
   "outputs": [],
   "source": [
    "def build_prompt(query, search_results):\n",
    "    prompt_template = \"\"\"\n",
    "You're a course teaching assistant. Answer the QUESTION based on the CONTEXT from the FAQ database.\n",
    "Use only the facts from the CONTEXT when answering the QUESTION.\n",
    "\n",
    "QUESTION: {question}\n",
    "\n",
    "CONTEXT: \n",
    "{context}\n",
    "\"\"\".strip()\n",
    "\n",
    "    context = \"\"\n",
    "    \n",
    "    for doc in search_results:\n",
    "        context = context + f\"section: {doc['section']}\\nquestion: {doc['question']}\\nanswer: {doc['text']}\\n\\n\"\n",
    "    \n",
    "    prompt = prompt_template.format(question=query, context=context).strip()\n",
    "    return prompt\n",
    "\n",
    "def llm(prompt):\n",
    "    response = client.chat.completions.create(\n",
    "        model='phi3',\n",
    "        messages=[{\"role\": \"user\", \"content\": prompt}]\n",
    "    )\n",
    "    \n",
    "    return response.choices[0].message.content"
   ]
  },
  {
   "cell_type": "code",
   "execution_count": 5,
   "metadata": {},
   "outputs": [],
   "source": [
    "def rag(query):\n",
    "    search_results = search(query)\n",
    "    prompt = build_prompt(query, search_results)\n",
    "    answer = llm(prompt)\n",
    "    return answer"
   ]
  },
  {
   "cell_type": "code",
   "execution_count": 11,
   "metadata": {},
   "outputs": [],
   "source": [
    "from openai import OpenAI\n",
    "\n",
    "client=OpenAI(\n",
    "    base_url=\"http://localhost:11434/v1/\",\n",
    "    api_key=\"ollama\",\n",
    ")"
   ]
  },
  {
   "cell_type": "code",
   "execution_count": 12,
   "metadata": {},
   "outputs": [
    {
     "data": {
      "text/plain": [
       "<openai.OpenAI at 0x77d0de44cdc0>"
      ]
     },
     "execution_count": 12,
     "metadata": {},
     "output_type": "execute_result"
    }
   ],
   "source": [
    "client"
   ]
  },
  {
   "cell_type": "code",
   "execution_count": 21,
   "metadata": {},
   "outputs": [
    {
     "data": {
      "text/plain": [
       "' Cows are large domesticated mammals that have been bred and raised as livestple for their meat, milk, leather, and other by-products. They belong to the family Bovidae within the order Artiodactyla or even -omorpha. Their most prominent features include a sturdy body, four legs, horns (in males) that can grow quite large in some species like those from Africa’s Savannah regions known as buffaloes and their characteristic mooing sound used for communication within the herd and with humans.\\n\\nCows are ruminants which means they have a unique digestive system consisting of four compartments – The mouth, esophagus (also called throat), reticulum, omasum, abomasum - each serving specific functions in their complex feeding habits. Ruminants can consume cellulose-rich materials like grass which are usually indigestible for other animals due to the lack of necessary enzymes and microbial helpers present within a cow’s system.\\n\\nCows, particularly breeds such as Holstein Friesian dairy cows have been selectively bred over centuries primarily for milk production; however, different types of cattle are used throughout various cultures around the world for varied purposes depending on their physical attributes and cultural preferences towards meat (beef), leather/hide etc.\\n\\nIn a more humane aspect of cow life, they have complex social structures with well-defined hierarchies which ensure cooperative behavior within the herd that ultimately leads to better survival rates as members work together in times when food and water are scarce or during harsh weather conditions like winters. This mutual support system also extends towards their calves, wherein cows demonstrate a strong bond with each other ensuring proper caretaking of their young ones by allowing them easy access to nutritious feed while protecting from predators as well.\\n\\nThe cow’s reproduction process begins when the male and female mates once or several times during breeding season, depending on environmental factors like availability of food resources; after this period it takes around a month for cows to conceive leading eventually towards calving wherein one single offspring is typically born. However in certain cases such as artificial insemination (AI), multiple births can also occur – producing twins or even triplets depending on the breed of cattle involved and various assisted reproductive technologies employed by livestock managers today.\\n\\nCows play a significant role not just within farming industries, but have had immense cultural impact throughout history as well; in some cultures they are worshipped with offerings such as milk, curd or sweets – showcasing their importance beyond being merely farm animals and even featuring heavily across numerous mythologies worldwide.\\n\\nIn conclusion, cows hold a place of prominence within our society due to the many aspects that define them - from biological marvels with unique physiology such as ruminant digestion system which allows it access into grasses otherwise inedible for non-ruminants; their sociable and supportive social structures, economic impact through livestock farming industries worldwide – both positive aspects of the animal’s life that also needs to be addressed with greater humane treatment efforts as we aim towards more sustainable living practices globally.'"
      ]
     },
     "execution_count": 21,
     "metadata": {},
     "output_type": "execute_result"
    }
   ],
   "source": [
    "llm('Write about cow')"
   ]
  },
  {
   "cell_type": "code",
   "execution_count": 22,
   "metadata": {},
   "outputs": [
    {
     "name": "stdout",
     "output_type": "stream",
     "text": [
      " Cows are large domesticated mammals that have been bred and raised as livestple for their meat, milk, leather, and other by-products. They belong to the family Bovidae within the order Artiodactyla or even -omorpha. Their most prominent features include a sturdy body, four legs, horns (in males) that can grow quite large in some species like those from Africa’s Savannah regions known as buffaloes and their characteristic mooing sound used for communication within the herd and with humans.\n",
      "\n",
      "Cows are ruminants which means they have a unique digestive system consisting of four compartments – The mouth, esophagus (also called throat), reticulum, omasum, abomasum - each serving specific functions in their complex feeding habits. Ruminants can consume cellulose-rich materials like grass which are usually indigestible for other animals due to the lack of necessary enzymes and microbial helpers present within a cow’s system.\n",
      "\n",
      "Cows, particularly breeds such as Holstein Friesian dairy cows have been selectively bred over centuries primarily for milk production; however, different types of cattle are used throughout various cultures around the world for varied purposes depending on their physical attributes and cultural preferences towards meat (beef), leather/hide etc.\n",
      "\n",
      "In a more humane aspect of cow life, they have complex social structures with well-defined hierarchies which ensure cooperative behavior within the herd that ultimately leads to better survival rates as members work together in times when food and water are scarce or during harsh weather conditions like winters. This mutual support system also extends towards their calves, wherein cows demonstrate a strong bond with each other ensuring proper caretaking of their young ones by allowing them easy access to nutritious feed while protecting from predators as well.\n",
      "\n",
      "The cow’s reproduction process begins when the male and female mates once or several times during breeding season, depending on environmental factors like availability of food resources; after this period it takes around a month for cows to conceive leading eventually towards calving wherein one single offspring is typically born. However in certain cases such as artificial insemination (AI), multiple births can also occur – producing twins or even triplets depending on the breed of cattle involved and various assisted reproductive technologies employed by livestock managers today.\n",
      "\n",
      "Cows play a significant role not just within farming industries, but have had immense cultural impact throughout history as well; in some cultures they are worshipped with offerings such as milk, curd or sweets – showcasing their importance beyond being merely farm animals and even featuring heavily across numerous mythologies worldwide.\n",
      "\n",
      "In conclusion, cows hold a place of prominence within our society due to the many aspects that define them - from biological marvels with unique physiology such as ruminant digestion system which allows it access into grasses otherwise inedible for non-ruminants; their sociable and supportive social structures, economic impact through livestock farming industries worldwide – both positive aspects of the animal’s life that also needs to be addressed with greater humane treatment efforts as we aim towards more sustainable living practices globally.\n"
     ]
    }
   ],
   "source": [
    "print(_)"
   ]
  },
  {
   "cell_type": "markdown",
   "metadata": {},
   "source": [
    "### Dockerized Ollama\n",
    "\n",
    "\n",
    "```bash \n",
    "docker run -it \\\n",
    "    -v ollama:/root/.ollama \\\n",
    "    -p 11434:11434 \\\n",
    "    --name ollama \\\n",
    "    ollama/ollama"
   ]
  },
  {
   "cell_type": "markdown",
   "metadata": {},
   "source": [
    "### Pull a model\n",
    "\n",
    "```bash\n",
    "docker exec -it ollama bash\n",
    "ollama pull phi3"
   ]
  },
  {
   "cell_type": "markdown",
   "metadata": {},
   "source": []
  }
 ],
 "metadata": {
  "kernelspec": {
   "display_name": "Python 3",
   "language": "python",
   "name": "python3"
  },
  "language_info": {
   "codemirror_mode": {
    "name": "ipython",
    "version": 3
   },
   "file_extension": ".py",
   "mimetype": "text/x-python",
   "name": "python",
   "nbconvert_exporter": "python",
   "pygments_lexer": "ipython3",
   "version": "3.10.14"
  }
 },
 "nbformat": 4,
 "nbformat_minor": 2
}
